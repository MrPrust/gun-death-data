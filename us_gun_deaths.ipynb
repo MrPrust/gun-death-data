{
 "cells": [
  {
   "cell_type": "code",
   "execution_count": 1,
   "metadata": {},
   "outputs": [
    {
     "data": {
      "text/plain": [
       "[['1',\n",
       "  '2012',\n",
       "  '01',\n",
       "  'Suicide',\n",
       "  '0',\n",
       "  'M',\n",
       "  '34',\n",
       "  'Asian/Pacific Islander',\n",
       "  '100',\n",
       "  'Home',\n",
       "  '4'],\n",
       " ['2', '2012', '01', 'Suicide', '0', 'F', '21', 'White', '100', 'Street', '3'],\n",
       " ['3',\n",
       "  '2012',\n",
       "  '01',\n",
       "  'Suicide',\n",
       "  '0',\n",
       "  'M',\n",
       "  '60',\n",
       "  'White',\n",
       "  '100',\n",
       "  'Other specified',\n",
       "  '4'],\n",
       " ['4', '2012', '02', 'Suicide', '0', 'M', '64', 'White', '100', 'Home', '4'],\n",
       " ['5',\n",
       "  '2012',\n",
       "  '02',\n",
       "  'Suicide',\n",
       "  '0',\n",
       "  'M',\n",
       "  '31',\n",
       "  'White',\n",
       "  '100',\n",
       "  'Other specified',\n",
       "  '2']]"
      ]
     },
     "execution_count": 1,
     "metadata": {},
     "output_type": "execute_result"
    }
   ],
   "source": [
    "import csv\n",
    "\n",
    "f = open('guns.csv', 'r')\n",
    "read = csv.reader(f)\n",
    "data = list(read)\n",
    "headers = data[0]\n",
    "data = data [1:]\n",
    "data[:5]"
   ]
  },
  {
   "cell_type": "code",
   "execution_count": 2,
   "metadata": {},
   "outputs": [
    {
     "data": {
      "text/plain": [
       "{'2012': 33563, '2013': 33636, '2014': 33599}"
      ]
     },
     "execution_count": 2,
     "metadata": {},
     "output_type": "execute_result"
    }
   ],
   "source": [
    "years = []\n",
    "year_counts = {}\n",
    "years = [each[1] for each in data]\n",
    "for each in data:\n",
    "    if each[1] in year_counts:\n",
    "        year_counts[each[1]] += 1\n",
    "    else:\n",
    "        year_counts[each[1]] = 1\n",
    "year_counts"
   ]
  },
  {
   "cell_type": "code",
   "execution_count": 3,
   "metadata": {},
   "outputs": [
    {
     "data": {
      "text/plain": [
       "{'Apr 2012': 2795,\n",
       " 'Apr 2013': 2798,\n",
       " 'Apr 2014': 2862,\n",
       " 'Aug 2012': 2954,\n",
       " 'Aug 2013': 2859,\n",
       " 'Aug 2014': 2970,\n",
       " 'Dec 2012': 2791,\n",
       " 'Dec 2013': 2765,\n",
       " 'Dec 2014': 2857,\n",
       " 'Feb 2012': 2357,\n",
       " 'Feb 2013': 2375,\n",
       " 'Feb 2014': 2361,\n",
       " 'Jan 2012': 2758,\n",
       " 'Jan 2013': 2864,\n",
       " 'Jan 2014': 2651,\n",
       " 'Jul 2012': 3026,\n",
       " 'Jul 2013': 3079,\n",
       " 'Jul 2014': 2884,\n",
       " 'Jun 2012': 2826,\n",
       " 'Jun 2013': 2920,\n",
       " 'Jun 2014': 2931,\n",
       " 'Mar 2012': 2743,\n",
       " 'Mar 2013': 2862,\n",
       " 'Mar 2014': 2684,\n",
       " 'May 2012': 2999,\n",
       " 'May 2013': 2806,\n",
       " 'May 2014': 2864,\n",
       " 'Nov 2012': 2729,\n",
       " 'Nov 2013': 2758,\n",
       " 'Nov 2014': 2756,\n",
       " 'Oct 2012': 2733,\n",
       " 'Oct 2013': 2808,\n",
       " 'Oct 2014': 2865,\n",
       " 'Sep 2012': 2852,\n",
       " 'Sep 2013': 2742,\n",
       " 'Sep 2014': 2914}"
      ]
     },
     "execution_count": 3,
     "metadata": {},
     "output_type": "execute_result"
    }
   ],
   "source": [
    "import datetime\n",
    "\n",
    "dates = []\n",
    "for each in data:\n",
    "    date = datetime.datetime(year=int(each[1]),month=int(each[2]),day=1)\n",
    "    pretty_date = date.strftime('%b %Y')\n",
    "    dates.append(pretty_date)\n",
    "\n",
    "date_counts = {}\n",
    "for each in dates:\n",
    "    if each in date_counts:\n",
    "        date_counts[each] += 1\n",
    "    else:\n",
    "        date_counts[each] = 1\n",
    "date_counts\n",
    "    "
   ]
  },
  {
   "cell_type": "code",
   "execution_count": 4,
   "metadata": {},
   "outputs": [],
   "source": [
    "def counter(input_data,column):\n",
    "    count = {}\n",
    "    for each in input_data:\n",
    "        if each[column] in count:\n",
    "            count[each[column]] += 1\n",
    "        else:\n",
    "            count[each[column]] = 1\n",
    "    return count"
   ]
  },
  {
   "cell_type": "code",
   "execution_count": 5,
   "metadata": {},
   "outputs": [
    {
     "data": {
      "text/plain": [
       "{'Asian/Pacific Islander': 1326,\n",
       " 'Black': 23296,\n",
       " 'Hispanic': 9022,\n",
       " 'Native American/Native Alaskan': 917,\n",
       " 'White': 66237}"
      ]
     },
     "execution_count": 5,
     "metadata": {},
     "output_type": "execute_result"
    }
   ],
   "source": [
    "race_counts = counter(data,7)\n",
    "race_counts"
   ]
  },
  {
   "cell_type": "code",
   "execution_count": 6,
   "metadata": {},
   "outputs": [
    {
     "data": {
      "text/plain": [
       "{'F': 14449, 'M': 86349}"
      ]
     },
     "execution_count": 6,
     "metadata": {},
     "output_type": "execute_result"
    }
   ],
   "source": [
    "sex_counts = counter(data,5)\n",
    "sex_counts"
   ]
  },
  {
   "cell_type": "markdown",
   "metadata": {},
   "source": [
    "# Learnings thus far\n",
    "\n",
    "- Gun deaths are consistent monthly and annually from 2012-2014\n",
    "- July has the most deaths, by a small margin\n",
    "- Deaths per race seem consistent to each race's percent of total population\n",
    "\n",
    "# Further examination\n",
    "\n",
    "- Deaths per race, per sex\n",
    "- Deaths per race percentage of total deaths\n",
    "- Number of deaths accross other variables"
   ]
  },
  {
   "cell_type": "code",
   "execution_count": 7,
   "metadata": {},
   "outputs": [
    {
     "data": {
      "text/plain": [
       "[['Id',\n",
       "  'Year',\n",
       "  'Id',\n",
       "  'Sex',\n",
       "  'Id',\n",
       "  'Hispanic Origin',\n",
       "  'Id',\n",
       "  'Id2',\n",
       "  'Geography',\n",
       "  'Total',\n",
       "  'Race Alone - White',\n",
       "  'Race Alone - Hispanic',\n",
       "  'Race Alone - Black or African American',\n",
       "  'Race Alone - American Indian and Alaska Native',\n",
       "  'Race Alone - Asian',\n",
       "  'Race Alone - Native Hawaiian and Other Pacific Islander',\n",
       "  'Two or More Races'],\n",
       " ['cen42010',\n",
       "  'April 1, 2010 Census',\n",
       "  'totsex',\n",
       "  'Both Sexes',\n",
       "  'tothisp',\n",
       "  'Total',\n",
       "  '0100000US',\n",
       "  '',\n",
       "  'United States',\n",
       "  '308745538',\n",
       "  '197318956',\n",
       "  '44618105',\n",
       "  '40250635',\n",
       "  '3739506',\n",
       "  '15159516',\n",
       "  '674625',\n",
       "  '6984195']]"
      ]
     },
     "execution_count": 7,
     "metadata": {},
     "output_type": "execute_result"
    }
   ],
   "source": [
    "f = open('census.csv','r')\n",
    "read = csv.reader(f)\n",
    "census = list(read)\n",
    "census"
   ]
  },
  {
   "cell_type": "code",
   "execution_count": 8,
   "metadata": {},
   "outputs": [
    {
     "data": {
      "text/plain": [
       "{'Asian/Pacific Islander': 17.31,\n",
       " 'Black': 57.88,\n",
       " 'Hispanic': 20.22,\n",
       " 'Native American/Native Alaskan': 6.05,\n",
       " 'White': 33.57}"
      ]
     },
     "execution_count": 8,
     "metadata": {},
     "output_type": "execute_result"
    }
   ],
   "source": [
    "mapping = {}\n",
    "mapping['Asian/Pacific Islander'] = int(census[1][15]) + int(census[1][16])\n",
    "mapping['Black'] = int(census[1][12])\n",
    "mapping['Native American/Native Alaskan'] = int(census[1][14])\n",
    "mapping['Hispanic'] = int(census[1][11])\n",
    "mapping['White'] = int(census[1][10])\n",
    "\n",
    "race_per_hundredk = {}\n",
    "for key in race_counts:\n",
    "    new_value = race_counts[key] / mapping[key]\n",
    "    race_per_hundredk[key] = round(new_value * 100000, 2)\n",
    "    \n",
    "race_per_hundredk"
   ]
  },
  {
   "cell_type": "code",
   "execution_count": 20,
   "metadata": {},
   "outputs": [
    {
     "data": {
      "text/plain": [
       "{'Asian/Pacific Islander': 7.3,\n",
       " 'Black': 48.47,\n",
       " 'Hispanic': 12.63,\n",
       " 'Native American/Native Alaskan': 2.15,\n",
       " 'White': 4.64}"
      ]
     },
     "execution_count": 20,
     "metadata": {},
     "output_type": "execute_result"
    }
   ],
   "source": [
    "intents = [each[3] for each in data]\n",
    "races = [each[7] for each in data]\n",
    "homicide_race_counts = {}\n",
    "for i, race in enumerate(races):\n",
    "    if intents[i] == 'Homicide':\n",
    "        if race in homicide_race_counts:\n",
    "            homicide_race_counts[race] += 1\n",
    "        else:\n",
    "            homicide_race_counts[race] = 1\n",
    "for key in homicide_race_counts:\n",
    "    new_values = homicide_race_counts[key] / mapping[key]\n",
    "    homicide_race_counts[key] = round(new_values * 100000, 2)\n",
    "\n",
    "homicide_race_counts    "
   ]
  },
  {
   "cell_type": "markdown",
   "metadata": {
    "collapsed": true
   },
   "source": [
    "## the rate of homicidal gun deaths per 100k people for Black individuals is substantially greater than the rate for any other racial category\n",
    "\n",
    "- is there a link between month and homicide rate?\n",
    "- what is the homicide rate by gender?\n",
    "- explore the rates of other intetns, like `Accidental`, by gender and race.\n",
    "- find out if gun death rates correlate to location and education.\n",
    "- what percent of the total gun deaths are made up by homicide for each race?\n",
    "- at what rate were officers involved in gun deaths, and homicidal gun deaths?"
   ]
  },
  {
   "cell_type": "code",
   "execution_count": 40,
   "metadata": {},
   "outputs": [
    {
     "data": {
      "text/plain": [
       "{'01': 8273,\n",
       " '02': 7093,\n",
       " '03': 8289,\n",
       " '04': 8455,\n",
       " '05': 8669,\n",
       " '06': 8677,\n",
       " '07': 8989,\n",
       " '08': 8783,\n",
       " '09': 8508,\n",
       " '10': 8406,\n",
       " '11': 8243,\n",
       " '12': 8413}"
      ]
     },
     "execution_count": 40,
     "metadata": {},
     "output_type": "execute_result"
    }
   ],
   "source": [
    "month_count = counter(data,2)\n",
    "month_count"
   ]
  },
  {
   "cell_type": "code",
   "execution_count": 39,
   "metadata": {},
   "outputs": [
    {
     "data": {
      "text/plain": [
       "{'0': 99396, '1': 1402}"
      ]
     },
     "execution_count": 39,
     "metadata": {},
     "output_type": "execute_result"
    }
   ],
   "source": [
    "police_involved = counter(data,4)\n",
    "police_involved"
   ]
  },
  {
   "cell_type": "code",
   "execution_count": 41,
   "metadata": {},
   "outputs": [
    {
     "data": {
      "text/plain": [
       "{'Asian/Pacific Islander': 30,\n",
       " 'Black': 356,\n",
       " 'Hispanic': 282,\n",
       " 'Native American/Native Alaskan': 25,\n",
       " 'White': 709}"
      ]
     },
     "execution_count": 41,
     "metadata": {},
     "output_type": "execute_result"
    }
   ],
   "source": [
    "intents = [each[3] for each in data]\n",
    "police = [each[4] for each in data]\n",
    "races = [each[7] for each in data]\n",
    "homicide_police_race_counts = {}\n",
    "for i, race in enumerate(races):\n",
    "    if intents[i] == 'Homicide' and police[i] == '1':\n",
    "        if race in homicide_police_race_counts:\n",
    "            homicide_police_race_counts[race] += 1\n",
    "        else:\n",
    "            homicide_police_race_counts[race] = 1\n",
    "\n",
    "homicide_police_race_counts"
   ]
  },
  {
   "cell_type": "code",
   "execution_count": null,
   "metadata": {},
   "outputs": [],
   "source": []
  }
 ],
 "metadata": {
  "kernelspec": {
   "display_name": "Python 3",
   "language": "python",
   "name": "python3"
  },
  "language_info": {
   "codemirror_mode": {
    "name": "ipython",
    "version": 3
   },
   "file_extension": ".py",
   "mimetype": "text/x-python",
   "name": "python",
   "nbconvert_exporter": "python",
   "pygments_lexer": "ipython3",
   "version": "3.6.4"
  }
 },
 "nbformat": 4,
 "nbformat_minor": 1
}
